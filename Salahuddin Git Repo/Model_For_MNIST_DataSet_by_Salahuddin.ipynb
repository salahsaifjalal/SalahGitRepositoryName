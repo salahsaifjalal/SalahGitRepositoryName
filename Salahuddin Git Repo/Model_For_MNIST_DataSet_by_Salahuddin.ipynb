{
  "nbformat": 4,
  "nbformat_minor": 0,
  "metadata": {
    "colab": {
      "name": "Model_For_MNIST_DataSet_by_Salahuddin.ipynb",
      "provenance": [],
      "collapsed_sections": []
    },
    "kernelspec": {
      "name": "python3",
      "display_name": "Python 3"
    },
    "accelerator": "GPU"
  },
  "cells": [
    {
      "cell_type": "code",
      "metadata": {
        "id": "twvt4fv11-Lg",
        "colab_type": "code",
        "outputId": "16cb1c79-dc42-4b26-bb92-0a6760414976",
        "colab": {
          "base_uri": "https://localhost:8080/",
          "height": 51
        }
      },
      "source": [
        "import tensorflow as tf\n",
        "import numpy as np\n",
        "from tensorflow import keras\n",
        "\n",
        "\n",
        "#Import MNIST dataset\n",
        "mnist_dataset = tf.keras.datasets.mnist\n",
        "(x_train, y_train), (x_test, y_test) = mnist_dataset.load_data()\n",
        "\n",
        "\n",
        "#Normalize MNIST dataset\n",
        "x_train = tf.keras.utils.normalize(x_train, axis =1)\n",
        "x_test = tf.keras.utils.normalize(x_test, axis =1)\n",
        "\n",
        "#Design the Model\n",
        "model = tf.keras.models.Sequential()\n",
        "\n",
        "model.add(tf.keras.layers.Flatten())\n",
        "model.add(tf.keras.layers.Dense(128, activation=\"relu\"))\n",
        "model.add(tf.keras.layers.Dense(128, activation=\"relu\"))\n",
        "model.add(tf.keras.layers.Dense(10, activation=\"softmax\"))\n",
        "\n",
        "#Compiling the Model\n",
        "model.compile(optimizer = \"adam\",\n",
        "              loss = 'sparse_categorical_crossentropy',\n",
        "              metrics=['accuracy'])\n",
        "\n"
      ],
      "execution_count": 0,
      "outputs": [
        {
          "output_type": "stream",
          "text": [
            "Downloading data from https://storage.googleapis.com/tensorflow/tf-keras-datasets/mnist.npz\n",
            "11493376/11490434 [==============================] - 0s 0us/step\n"
          ],
          "name": "stdout"
        }
      ]
    },
    {
      "cell_type": "code",
      "metadata": {
        "id": "-px9Zb7arjj0",
        "colab_type": "code",
        "outputId": "e7eb9214-314a-4578-eac6-a33404bf2839",
        "colab": {
          "base_uri": "https://localhost:8080/",
          "height": 187
        }
      },
      "source": [
        "#Training the Model\n",
        "Training_loss_Training_accuracy = model.fit(x_train, y_train, epochs=5)\n"
      ],
      "execution_count": 0,
      "outputs": [
        {
          "output_type": "stream",
          "text": [
            "Epoch 1/5\n",
            "1875/1875 [==============================] - 4s 2ms/step - loss: 0.2643 - accuracy: 0.9225\n",
            "Epoch 2/5\n",
            "1875/1875 [==============================] - 4s 2ms/step - loss: 0.1079 - accuracy: 0.9666\n",
            "Epoch 3/5\n",
            "1875/1875 [==============================] - 4s 2ms/step - loss: 0.0737 - accuracy: 0.9773\n",
            "Epoch 4/5\n",
            "1875/1875 [==============================] - 4s 2ms/step - loss: 0.0535 - accuracy: 0.9828\n",
            "Epoch 5/5\n",
            "1875/1875 [==============================] - 4s 2ms/step - loss: 0.0424 - accuracy: 0.9861\n"
          ],
          "name": "stdout"
        }
      ]
    },
    {
      "cell_type": "code",
      "metadata": {
        "id": "ALoMA30jxoVl",
        "colab_type": "code",
        "outputId": "1246ddb2-b003-4c02-8b6a-5aaf65c7459c",
        "colab": {
          "base_uri": "https://localhost:8080/",
          "height": 51
        }
      },
      "source": [
        "#Testing the Model\n",
        "\n",
        "testing_loss, testing_accuracy = model.evaluate(x_test, y_test)\n",
        "print(\"T E S T    A C C U R A C Y:\", testing_accuracy*100, \"%\")\n",
        "\n"
      ],
      "execution_count": 0,
      "outputs": [
        {
          "output_type": "stream",
          "text": [
            "313/313 [==============================] - 1s 2ms/step - loss: 0.1013 - accuracy: 0.9714\n",
            "T E S T    A C C U R A C Y: 97.14000225067139 %\n"
          ],
          "name": "stdout"
        }
      ]
    },
    {
      "cell_type": "code",
      "metadata": {
        "id": "ZvQG4_zClfVF",
        "colab_type": "code",
        "outputId": "8fc9be13-10ff-4a4d-fd38-7f8ec93e26fd",
        "colab": {
          "base_uri": "https://localhost:8080/",
          "height": 105
        }
      },
      "source": [
        "#Saving the Model\n",
        "model.save(\"Salah_Mnist_Model\")"
      ],
      "execution_count": 0,
      "outputs": [
        {
          "output_type": "stream",
          "text": [
            "WARNING:tensorflow:From /usr/local/lib/python3.6/dist-packages/tensorflow/python/ops/resource_variable_ops.py:1817: calling BaseResourceVariable.__init__ (from tensorflow.python.ops.resource_variable_ops) with constraint is deprecated and will be removed in a future version.\n",
            "Instructions for updating:\n",
            "If using Keras pass *_constraint arguments to layers.\n",
            "INFO:tensorflow:Assets written to: Salah_Mnist_Model/assets\n"
          ],
          "name": "stdout"
        }
      ]
    },
    {
      "cell_type": "code",
      "metadata": {
        "id": "D84_0Evqo5my",
        "colab_type": "code",
        "colab": {}
      },
      "source": [
        "#Loading the Model\n",
        "my_model = tf.keras.models.load_model(\"Salah_Mnist_Model\")\n",
        "My_Model_Prediction=my_model.predict(x_test)\n"
      ],
      "execution_count": 0,
      "outputs": []
    },
    {
      "cell_type": "code",
      "metadata": {
        "id": "RIef4C8Ng9Li",
        "colab_type": "code",
        "outputId": "a3e787b2-680c-4d41-e35c-35b7b442a519",
        "colab": {
          "base_uri": "https://localhost:8080/",
          "height": 264
        }
      },
      "source": [
        "#Displaying\n",
        "import matplotlib.pyplot as plt\n",
        "import numpy as np\n",
        "from numpy import random\n",
        "\n",
        "\n",
        "x=random.randint(1,10000)\n",
        "plt.title(\"Digit in x_test data is = \" +str(np.argmax(My_Model_Prediction[x])))\n",
        "plt.axis('off')\n",
        "plt.imshow(x_test[x])\n",
        "plt.show()"
      ],
      "execution_count": 0,
      "outputs": [
        {
          "output_type": "display_data",
          "data": {
            "image/png": "[encoded data removed]",
            "text/plain": [
              "<Figure size 432x288 with 1 Axes>"
            ]
          },
          "metadata": {
            "tags": [],
            "needs_background": "light"
          }
        }
      ]
    }
  ]
}